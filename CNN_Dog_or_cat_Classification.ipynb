{
  "nbformat": 4,
  "nbformat_minor": 0,
  "metadata": {
    "kernelspec": {
      "display_name": "Python 3",
      "language": "python",
      "name": "python3"
    },
    "language_info": {
      "codemirror_mode": {
        "name": "ipython",
        "version": 3
      },
      "file_extension": ".py",
      "mimetype": "text/x-python",
      "name": "python",
      "nbconvert_exporter": "python",
      "pygments_lexer": "ipython3",
      "version": "3.7.6"
    },
    "colab": {
      "name": "CNN - Dog or cat Classification.ipynb",
      "provenance": [],
      "collapsed_sections": [],
      "toc_visible": true,
      "include_colab_link": true
    }
  },
  "cells": [
    {
      "cell_type": "markdown",
      "metadata": {
        "id": "view-in-github",
        "colab_type": "text"
      },
      "source": [
        "<a href=\"https://colab.research.google.com/github/VempatiAnushaReddy3101/cat-vs-dog-classification/blob/master/CNN_Dog_or_cat_Classification.ipynb\" target=\"_parent\"><img src=\"https://colab.research.google.com/assets/colab-badge.svg\" alt=\"Open In Colab\"/></a>"
      ]
    },
    {
      "cell_type": "code",
      "metadata": {
        "id": "qyi97ZR3c-v2",
        "colab_type": "code",
        "colab": {},
        "outputId": "84461364-15e5-40d5-883d-93e7c456a5a3"
      },
      "source": [
        "!pip install opencv-python"
      ],
      "execution_count": null,
      "outputs": [
        {
          "output_type": "stream",
          "text": [
            "Requirement already satisfied: opencv-python in e:\\anaconda\\lib\\site-packages (4.2.0.34)\n",
            "Requirement already satisfied: numpy>=1.14.5 in e:\\anaconda\\lib\\site-packages (from opencv-python) (1.18.1)\n"
          ],
          "name": "stdout"
        }
      ]
    },
    {
      "cell_type": "code",
      "metadata": {
        "scrolled": false,
        "id": "KhH5ZcoPc-v9",
        "colab_type": "code",
        "colab": {},
        "outputId": "b347a260-01c3-41cd-87b2-da0c4c48d9e4"
      },
      "source": [
        "from keras.models import Sequential\n",
        "from keras.layers import Dense\n",
        "from keras.layers import Convolution2D\n",
        "from keras.layers import MaxPooling2D\n",
        "from keras.layers import Flatten"
      ],
      "execution_count": null,
      "outputs": [
        {
          "output_type": "stream",
          "text": [
            "Using TensorFlow backend.\n",
            "E:\\Anaconda\\lib\\site-packages\\tensorflow\\python\\framework\\dtypes.py:516: FutureWarning: Passing (type, 1) or '1type' as a synonym of type is deprecated; in a future version of numpy, it will be understood as (type, (1,)) / '(1,)type'.\n",
            "  _np_qint8 = np.dtype([(\"qint8\", np.int8, 1)])\n",
            "E:\\Anaconda\\lib\\site-packages\\tensorflow\\python\\framework\\dtypes.py:517: FutureWarning: Passing (type, 1) or '1type' as a synonym of type is deprecated; in a future version of numpy, it will be understood as (type, (1,)) / '(1,)type'.\n",
            "  _np_quint8 = np.dtype([(\"quint8\", np.uint8, 1)])\n",
            "E:\\Anaconda\\lib\\site-packages\\tensorflow\\python\\framework\\dtypes.py:518: FutureWarning: Passing (type, 1) or '1type' as a synonym of type is deprecated; in a future version of numpy, it will be understood as (type, (1,)) / '(1,)type'.\n",
            "  _np_qint16 = np.dtype([(\"qint16\", np.int16, 1)])\n",
            "E:\\Anaconda\\lib\\site-packages\\tensorflow\\python\\framework\\dtypes.py:519: FutureWarning: Passing (type, 1) or '1type' as a synonym of type is deprecated; in a future version of numpy, it will be understood as (type, (1,)) / '(1,)type'.\n",
            "  _np_quint16 = np.dtype([(\"quint16\", np.uint16, 1)])\n",
            "E:\\Anaconda\\lib\\site-packages\\tensorflow\\python\\framework\\dtypes.py:520: FutureWarning: Passing (type, 1) or '1type' as a synonym of type is deprecated; in a future version of numpy, it will be understood as (type, (1,)) / '(1,)type'.\n",
            "  _np_qint32 = np.dtype([(\"qint32\", np.int32, 1)])\n",
            "E:\\Anaconda\\lib\\site-packages\\tensorflow\\python\\framework\\dtypes.py:525: FutureWarning: Passing (type, 1) or '1type' as a synonym of type is deprecated; in a future version of numpy, it will be understood as (type, (1,)) / '(1,)type'.\n",
            "  np_resource = np.dtype([(\"resource\", np.ubyte, 1)])\n",
            "E:\\Anaconda\\lib\\site-packages\\tensorboard\\compat\\tensorflow_stub\\dtypes.py:541: FutureWarning: Passing (type, 1) or '1type' as a synonym of type is deprecated; in a future version of numpy, it will be understood as (type, (1,)) / '(1,)type'.\n",
            "  _np_qint8 = np.dtype([(\"qint8\", np.int8, 1)])\n",
            "E:\\Anaconda\\lib\\site-packages\\tensorboard\\compat\\tensorflow_stub\\dtypes.py:542: FutureWarning: Passing (type, 1) or '1type' as a synonym of type is deprecated; in a future version of numpy, it will be understood as (type, (1,)) / '(1,)type'.\n",
            "  _np_quint8 = np.dtype([(\"quint8\", np.uint8, 1)])\n",
            "E:\\Anaconda\\lib\\site-packages\\tensorboard\\compat\\tensorflow_stub\\dtypes.py:543: FutureWarning: Passing (type, 1) or '1type' as a synonym of type is deprecated; in a future version of numpy, it will be understood as (type, (1,)) / '(1,)type'.\n",
            "  _np_qint16 = np.dtype([(\"qint16\", np.int16, 1)])\n",
            "E:\\Anaconda\\lib\\site-packages\\tensorboard\\compat\\tensorflow_stub\\dtypes.py:544: FutureWarning: Passing (type, 1) or '1type' as a synonym of type is deprecated; in a future version of numpy, it will be understood as (type, (1,)) / '(1,)type'.\n",
            "  _np_quint16 = np.dtype([(\"quint16\", np.uint16, 1)])\n",
            "E:\\Anaconda\\lib\\site-packages\\tensorboard\\compat\\tensorflow_stub\\dtypes.py:545: FutureWarning: Passing (type, 1) or '1type' as a synonym of type is deprecated; in a future version of numpy, it will be understood as (type, (1,)) / '(1,)type'.\n",
            "  _np_qint32 = np.dtype([(\"qint32\", np.int32, 1)])\n",
            "E:\\Anaconda\\lib\\site-packages\\tensorboard\\compat\\tensorflow_stub\\dtypes.py:550: FutureWarning: Passing (type, 1) or '1type' as a synonym of type is deprecated; in a future version of numpy, it will be understood as (type, (1,)) / '(1,)type'.\n",
            "  np_resource = np.dtype([(\"resource\", np.ubyte, 1)])\n"
          ],
          "name": "stderr"
        }
      ]
    },
    {
      "cell_type": "code",
      "metadata": {
        "id": "iwMsn941c-wB",
        "colab_type": "code",
        "colab": {}
      },
      "source": [
        "#Intialize the model\n",
        "model=Sequential()"
      ],
      "execution_count": null,
      "outputs": []
    },
    {
      "cell_type": "code",
      "metadata": {
        "id": "bGTx3gdac-wF",
        "colab_type": "code",
        "colab": {}
      },
      "source": [
        "# Add Convolution Layer\n",
        "model.add(Convolution2D(32,(3,3),input_shape=(64,64,3),activation=\"relu\"))"
      ],
      "execution_count": null,
      "outputs": []
    },
    {
      "cell_type": "code",
      "metadata": {
        "id": "V_bSC2GQc-wI",
        "colab_type": "code",
        "colab": {},
        "outputId": "b4a0ad6f-7dcb-48f8-b8d9-799834cc06cd"
      },
      "source": [
        "#Add Pooling Layer\n",
        "model.add(MaxPooling2D(pool_size = (2, 2)))"
      ],
      "execution_count": null,
      "outputs": [
        {
          "output_type": "stream",
          "text": [
            "WARNING:tensorflow:From E:\\Anaconda\\lib\\site-packages\\keras\\backend\\tensorflow_backend.py:4070: The name tf.nn.max_pool is deprecated. Please use tf.nn.max_pool2d instead.\n",
            "\n"
          ],
          "name": "stdout"
        }
      ]
    },
    {
      "cell_type": "code",
      "metadata": {
        "id": "XwpdF7eZc-wM",
        "colab_type": "code",
        "colab": {}
      },
      "source": [
        "#Add Flattening Layer\n",
        "model.add(Flatten())"
      ],
      "execution_count": null,
      "outputs": []
    },
    {
      "cell_type": "code",
      "metadata": {
        "id": "oV_lPG75c-wQ",
        "colab_type": "code",
        "colab": {},
        "outputId": "df00b095-9f3d-4666-b6d3-d389e1dd2089"
      },
      "source": [
        "#Add Hidden Layer\n",
        "model.add(Dense(init=\"uniform\",activation=\"relu\",output_dim=120))"
      ],
      "execution_count": null,
      "outputs": [
        {
          "output_type": "stream",
          "text": [
            "E:\\Anaconda\\lib\\site-packages\\ipykernel_launcher.py:2: UserWarning: Update your `Dense` call to the Keras 2 API: `Dense(activation=\"relu\", units=120, kernel_initializer=\"uniform\")`\n",
            "  \n"
          ],
          "name": "stderr"
        }
      ]
    },
    {
      "cell_type": "code",
      "metadata": {
        "id": "Z_IB9xx4c-wW",
        "colab_type": "code",
        "colab": {},
        "outputId": "b6cef933-1225-4f3f-d0dd-5a6d2eab0528"
      },
      "source": [
        "#Add Output layer\n",
        "model.add(Dense(init=\"uniform\",activation=\"sigmoid\",output_dim=1))"
      ],
      "execution_count": null,
      "outputs": [
        {
          "output_type": "stream",
          "text": [
            "E:\\Anaconda\\lib\\site-packages\\ipykernel_launcher.py:2: UserWarning: Update your `Dense` call to the Keras 2 API: `Dense(activation=\"sigmoid\", units=1, kernel_initializer=\"uniform\")`\n",
            "  \n"
          ],
          "name": "stderr"
        }
      ]
    },
    {
      "cell_type": "code",
      "metadata": {
        "id": "OWKZJFoZc-wb",
        "colab_type": "code",
        "colab": {},
        "outputId": "cafea40a-ab7b-4019-b4dd-54512e11e313"
      },
      "source": [
        "#Compile the model\n",
        "model.compile(loss=\"binary_crossentropy\",optimizer=\"adam\",metrics=[\"accuracy\"])"
      ],
      "execution_count": null,
      "outputs": [
        {
          "output_type": "stream",
          "text": [
            "WARNING:tensorflow:From E:\\Anaconda\\lib\\site-packages\\tensorflow\\python\\ops\\nn_impl.py:180: add_dispatch_support.<locals>.wrapper (from tensorflow.python.ops.array_ops) is deprecated and will be removed in a future version.\n",
            "Instructions for updating:\n",
            "Use tf.where in 2.0, which has the same broadcast rule as np.where\n"
          ],
          "name": "stdout"
        }
      ]
    },
    {
      "cell_type": "code",
      "metadata": {
        "id": "JoikNXpRc-wf",
        "colab_type": "code",
        "colab": {}
      },
      "source": [
        "from keras.preprocessing.image import ImageDataGenerator\n",
        "\n",
        "train_datagen = ImageDataGenerator(rescale = 1./255,\n",
        "                                   shear_range = 0.2,\n",
        "                                   zoom_range = 0.2,\n",
        "                                   horizontal_flip = True)\n",
        "\n",
        "test_datagen = ImageDataGenerator(rescale = 1./255)"
      ],
      "execution_count": null,
      "outputs": []
    },
    {
      "cell_type": "code",
      "metadata": {
        "id": "4FEtM9hUc-wi",
        "colab_type": "code",
        "colab": {},
        "outputId": "38015109-8da4-494b-967a-4ac11154146d"
      },
      "source": [
        "x_train = train_datagen.flow_from_directory('C:/Users/Sneha/Desktop/CNN/training_set',\n",
        "                                                 target_size = (64, 64),\n",
        "                                                 batch_size = 32,\n",
        "                                                     class_mode = 'binary')\n",
        "x_test = test_datagen.flow_from_directory('C:/Users/Sneha/Desktop/CNN/test_set',\n",
        "                                            target_size = (64, 64),\n",
        "                                            batch_size = 32,\n",
        "                                            class_mode = 'binary')\n",
        "\n"
      ],
      "execution_count": null,
      "outputs": [
        {
          "output_type": "stream",
          "text": [
            "Found 8010 images belonging to 2 classes.\n",
            "Found 2001 images belonging to 2 classes.\n"
          ],
          "name": "stdout"
        }
      ]
    },
    {
      "cell_type": "code",
      "metadata": {
        "id": "dDi-AK1zc-wl",
        "colab_type": "code",
        "colab": {},
        "outputId": "8f219b6c-1252-45f2-a1de-c830c716e252"
      },
      "source": [
        "print(x_train.class_indices)"
      ],
      "execution_count": null,
      "outputs": [
        {
          "output_type": "stream",
          "text": [
            "{'cats': 0, 'dogs': 1}\n"
          ],
          "name": "stdout"
        }
      ]
    },
    {
      "cell_type": "code",
      "metadata": {
        "id": "xyo0dsN0c-wo",
        "colab_type": "code",
        "colab": {},
        "outputId": "49016a94-8182-470a-f086-aef5b48d3935"
      },
      "source": [
        "model.fit_generator(x_train,\n",
        "                         steps_per_epoch = 250,\n",
        "                         epochs = 10,\n",
        "                         validation_data = x_test,\n",
        "                         validation_steps = 63)"
      ],
      "execution_count": null,
      "outputs": [
        {
          "output_type": "stream",
          "text": [
            "WARNING:tensorflow:From E:\\Anaconda\\lib\\site-packages\\keras\\backend\\tensorflow_backend.py:422: The name tf.global_variables is deprecated. Please use tf.compat.v1.global_variables instead.\n",
            "\n",
            "Epoch 1/10\n",
            "250/250 [==============================] - 220s 878ms/step - loss: 0.6865 - accuracy: 0.5458 - val_loss: 0.7160 - val_accuracy: 0.6392\n",
            "Epoch 2/10\n",
            "250/250 [==============================] - 43s 173ms/step - loss: 0.6274 - accuracy: 0.6473 - val_loss: 0.5063 - val_accuracy: 0.6952\n",
            "Epoch 3/10\n",
            "250/250 [==============================] - 48s 193ms/step - loss: 0.5889 - accuracy: 0.6838 - val_loss: 0.4841 - val_accuracy: 0.7221\n",
            "Epoch 4/10\n",
            "250/250 [==============================] - 43s 173ms/step - loss: 0.5555 - accuracy: 0.7132 - val_loss: 0.6167 - val_accuracy: 0.7181\n",
            "Epoch 5/10\n",
            "250/250 [==============================] - 42s 169ms/step - loss: 0.5369 - accuracy: 0.7309 - val_loss: 0.4349 - val_accuracy: 0.7286\n",
            "Epoch 6/10\n",
            "250/250 [==============================] - 43s 171ms/step - loss: 0.5189 - accuracy: 0.7403 - val_loss: 0.4798 - val_accuracy: 0.6922\n",
            "Epoch 7/10\n",
            "250/250 [==============================] - 46s 185ms/step - loss: 0.5091 - accuracy: 0.7450 - val_loss: 0.3997 - val_accuracy: 0.7461\n",
            "Epoch 8/10\n",
            "250/250 [==============================] - 44s 176ms/step - loss: 0.4990 - accuracy: 0.7518 - val_loss: 0.2767 - val_accuracy: 0.7386\n",
            "Epoch 9/10\n",
            "250/250 [==============================] - 44s 176ms/step - loss: 0.4755 - accuracy: 0.7697 - val_loss: 1.5242 - val_accuracy: 0.7621\n",
            "Epoch 10/10\n",
            "250/250 [==============================] - 43s 173ms/step - loss: 0.4768 - accuracy: 0.7656 - val_loss: 0.3622 - val_accuracy: 0.7641\n"
          ],
          "name": "stdout"
        },
        {
          "output_type": "execute_result",
          "data": {
            "text/plain": [
              "<keras.callbacks.callbacks.History at 0x21fed6a70c8>"
            ]
          },
          "metadata": {
            "tags": []
          },
          "execution_count": 13
        }
      ]
    },
    {
      "cell_type": "code",
      "metadata": {
        "id": "zUHQP1U4c-ws",
        "colab_type": "code",
        "colab": {}
      },
      "source": [
        "model.save(\"mymodel.h5\")"
      ],
      "execution_count": null,
      "outputs": []
    },
    {
      "cell_type": "code",
      "metadata": {
        "id": "H31Q6ESfc-ww",
        "colab_type": "code",
        "colab": {}
      },
      "source": [
        "from keras.models import load_model\n",
        "import numpy as np\n",
        "import cv2"
      ],
      "execution_count": null,
      "outputs": []
    },
    {
      "cell_type": "code",
      "metadata": {
        "id": "XLIsUDDBc-w0",
        "colab_type": "code",
        "colab": {}
      },
      "source": [
        "\n",
        "# model = load_model('mymodel.h5')\n",
        "# model.compile(loss='categorical_crossentropy',\n",
        "#                       optimizer='adam',\n",
        "#                       metrics=['accuracy'])\n",
        "\n",
        "from skimage.transform import resize\n",
        "\n",
        "def detect(frame):\n",
        "    try:\n",
        "        img = resize(frame,(64,64))\n",
        "        img = np.expand_dims(img,axis=0)\n",
        "        if(np.max(img)>1):\n",
        "            img = img/255.0\n",
        "        prediction = model.predict(img)\n",
        "        print(prediction)\n",
        "        prediction = model.predict_classes(img)\n",
        "        print(prediction)\n",
        "    except AttributeError:\n",
        "        print(\"shape not found\")\n"
      ],
      "execution_count": null,
      "outputs": []
    },
    {
      "cell_type": "code",
      "metadata": {
        "id": "KPE-tOtKc-w3",
        "colab_type": "code",
        "colab": {},
        "outputId": "522d4442-d364-46f6-b3f5-33633ab6ed5d"
      },
      "source": [
        "frame=cv2.imread(\"C:/Users/Sneha/Desktop/CNN/training_set/cats/cat.1.jpg\")\n",
        "data = detect(frame)"
      ],
      "execution_count": null,
      "outputs": [
        {
          "output_type": "stream",
          "text": [
            "[[0.335365]]\n",
            "[[0]]\n"
          ],
          "name": "stdout"
        }
      ]
    },
    {
      "cell_type": "code",
      "metadata": {
        "id": "ClbM7eVcc-w7",
        "colab_type": "code",
        "colab": {},
        "outputId": "93cbaba7-2ae7-4c64-9b00-d69f9b6e6e0a"
      },
      "source": [
        "frame=cv2.imread(\"C:/Users/Sneha/Desktop/CNN/training_set/dogs/dog.6.jpg\")\n",
        "data = detect(frame)"
      ],
      "execution_count": null,
      "outputs": [
        {
          "output_type": "stream",
          "text": [
            "[[0.9650617]]\n",
            "[[1]]\n"
          ],
          "name": "stdout"
        }
      ]
    },
    {
      "cell_type": "code",
      "metadata": {
        "id": "vYSGwKYAc-xB",
        "colab_type": "code",
        "colab": {},
        "outputId": "df5e8a45-66fd-4a6b-fb0c-4804ecc6397f"
      },
      "source": [
        "frame=cv2.imread(\"C:/Users/Sneha/Desktop/CNN/test_set/dogs/dog.4003.jpg\")\n",
        "data = detect(frame)"
      ],
      "execution_count": null,
      "outputs": [
        {
          "output_type": "stream",
          "text": [
            "[[0.8056739]]\n",
            "[[1]]\n"
          ],
          "name": "stdout"
        }
      ]
    },
    {
      "cell_type": "markdown",
      "metadata": {
        "id": "Ep6bGb6Vc-xF",
        "colab_type": "text"
      },
      "source": [
        "# Observation\n",
        "When we are uploading Train_set-cat image:it predicts 0.33 and it belongs to 0 class ,Train_set-dog image:it predicts 0.96 and it belongs to 1 class ,Test_set-dog image:it predicts 0.80 and it belongs to 1 class "
      ]
    },
    {
      "cell_type": "code",
      "metadata": {
        "id": "Qdx8X0cUc-xG",
        "colab_type": "code",
        "colab": {}
      },
      "source": [
        "history = model.history.history"
      ],
      "execution_count": null,
      "outputs": []
    },
    {
      "cell_type": "code",
      "metadata": {
        "id": "4lgs3Jw-c-xK",
        "colab_type": "code",
        "colab": {},
        "outputId": "bbb8d72e-cb42-4b71-ca56-bdbe5237bdb4"
      },
      "source": [
        "for key in history.keys():\n",
        "    print(key)"
      ],
      "execution_count": null,
      "outputs": [
        {
          "output_type": "stream",
          "text": [
            "val_loss\n",
            "val_accuracy\n",
            "loss\n",
            "accuracy\n"
          ],
          "name": "stdout"
        }
      ]
    },
    {
      "cell_type": "code",
      "metadata": {
        "id": "RlPCr8Jgc-xN",
        "colab_type": "code",
        "colab": {}
      },
      "source": [
        "def plot_metrics(history):\n",
        "    \n",
        "    train_loss = history['loss']\n",
        "    val_loss = history['val_loss']\n",
        "    train_acc = history['accuracy']\n",
        "    val_acc = history['val_accuracy']\n",
        "    \n",
        "    # Loss\n",
        "    plt.figure()\n",
        "    plt.plot(train_loss, label='Training Loss')\n",
        "    plt.plot(val_loss, label='Validation Loss')\n",
        "    plt.title('Loss')\n",
        "    plt.legend()\n",
        "    plt.show()\n",
        "    \n",
        "    # Accuracy\n",
        "    plt.figure()\n",
        "    plt.plot(train_acc, label='Training Accuracy')\n",
        "    plt.plot(val_acc, label='Validation Accuracy')\n",
        "    plt.title('Accuracy')\n",
        "    plt.legend()\n",
        "    plt.show()"
      ],
      "execution_count": null,
      "outputs": []
    },
    {
      "cell_type": "code",
      "metadata": {
        "id": "S1OyS3-Bc-xQ",
        "colab_type": "code",
        "colab": {}
      },
      "source": [
        "import matplotlib.pyplot as plt\n",
        "%matplotlib inline"
      ],
      "execution_count": null,
      "outputs": []
    },
    {
      "cell_type": "code",
      "metadata": {
        "id": "TXcb-bZpc-xT",
        "colab_type": "code",
        "colab": {},
        "outputId": "8a0544c5-e9e2-44b9-e234-7972d5846194"
      },
      "source": [
        "plot_metrics(history)"
      ],
      "execution_count": null,
      "outputs": [
        {
          "output_type": "display_data",
          "data": {
            "image/png": "[encoded data removed]",
            "text/plain": [
              "<Figure size 432x288 with 1 Axes>"
            ]
          },
          "metadata": {
            "tags": [],
            "needs_background": "light"
          }
        },
        {
          "output_type": "display_data",
          "data": {
            "image/png": "[encoded data removed]",
            "text/plain": [
              "<Figure size 432x288 with 1 Axes>"
            ]
          },
          "metadata": {
            "tags": [],
            "needs_background": "light"
          }
        }
      ]
    },
    {
      "cell_type": "markdown",
      "metadata": {
        "id": "_DH0N3cOc-xW",
        "colab_type": "text"
      },
      "source": [
        "# Conclusion\n",
        "By using this Model: Accuracy:76%, val_accuracy:76%"
      ]
    },
    {
      "cell_type": "code",
      "metadata": {
        "id": "MmKvneIvc-xX",
        "colab_type": "code",
        "colab": {}
      },
      "source": [
        ""
      ],
      "execution_count": null,
      "outputs": []
    }
  ]
}